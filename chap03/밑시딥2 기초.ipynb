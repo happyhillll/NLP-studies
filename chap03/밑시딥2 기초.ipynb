{
 "cells": [
  {
   "cell_type": "code",
   "execution_count": 1,
   "id": "3c947607",
   "metadata": {},
   "outputs": [],
   "source": [
    "#코사인 유사도 함수\n",
    "def cos_similarity(x,y):\n",
    "    nx=x/np.sqrt(np.sum(x**2)) #x의 정규화\n",
    "    ny=y/np.sqrt(np.sum(y**2)) #y의 정규화\n",
    "    return np.dot(nx,ny)"
   ]
  },
  {
   "cell_type": "code",
   "execution_count": null,
   "id": "c250c853",
   "metadata": {},
   "outputs": [],
   "source": []
  }
 ],
 "metadata": {
  "kernelspec": {
   "display_name": "Python 3 (ipykernel)",
   "language": "python",
   "name": "python3"
  },
  "language_info": {
   "codemirror_mode": {
    "name": "ipython",
    "version": 3
   },
   "file_extension": ".py",
   "mimetype": "text/x-python",
   "name": "python",
   "nbconvert_exporter": "python",
   "pygments_lexer": "ipython3",
   "version": "3.9.7"
  }
 },
 "nbformat": 4,
 "nbformat_minor": 5
}
