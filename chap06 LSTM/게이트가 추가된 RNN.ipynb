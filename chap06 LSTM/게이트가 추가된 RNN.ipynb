{
 "cells": [
  {
   "cell_type": "markdown",
   "id": "c37d5ea8",
   "metadata": {},
   "source": [
    "# 게이트가 추가된 RNN\n",
    "## 6.1 RNN의 문제점\n",
    "- 시계열 데이터의 장기 의존 관계를 학습하기 어려움\n",
    "    - 왜냐하면 BPTT에서 기울기 소실 혹은, 기울기 폭발이 일어나기 때문임"
   ]
  },
  {
   "cell_type": "markdown",
   "id": "b4d07997",
   "metadata": {},
   "source": [
    "### 6.1.1 RNN 복습\n",
    "### 6.1.2 기울기 소실 또는 기울기 폭발"
   ]
  }
 ],
 "metadata": {
  "kernelspec": {
   "display_name": "Python [conda env:tensorflow] *",
   "language": "python",
   "name": "conda-env-tensorflow-py"
  },
  "language_info": {
   "codemirror_mode": {
    "name": "ipython",
    "version": 3
   },
   "file_extension": ".py",
   "mimetype": "text/x-python",
   "name": "python",
   "nbconvert_exporter": "python",
   "pygments_lexer": "ipython3",
   "version": "3.6.13"
  }
 },
 "nbformat": 4,
 "nbformat_minor": 5
}
