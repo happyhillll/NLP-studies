{
  "cells": [
    {
      "cell_type": "markdown",
      "metadata": {
        "id": "view-in-github",
        "colab_type": "text"
      },
      "source": [
        "<a href=\"https://colab.research.google.com/github/happyhillll/NLP-studies/blob/main/02_Project_%E1%84%89%E1%85%B5%E1%86%B7%E1%84%89%E1%85%B3%E1%86%AB%E1%84%8B%E1%85%B5%E1%84%86%E1%85%B5%E1%84%8C%E1%85%B5%E1%84%87%E1%85%AE%E1%86%AB%E1%84%85%E1%85%B2_(%E1%84%89%E1%85%B5%E1%86%AF%E1%84%89%E1%85%B3%E1%86%B8).ipynb\" target=\"_parent\"><img src=\"https://colab.research.google.com/assets/colab-badge.svg\" alt=\"Open In Colab\"/></a>"
      ]
    },
    {
      "cell_type": "markdown",
      "metadata": {
        "id": "Q2eN5V51qgOC"
      },
      "source": [
        "## 환경설정\n",
        "\n",
        "1. http://braincrew2.iptime.org:8001 에 접속하여 회원가입해 주세요. (비밀번호는 단순하게 기입하시는 것을 권장 드려요. 예. 1234)\n",
        "2. `username` 에 이메일 형식의 아이디를 기입해 주세요.\n",
        "3. `password` 에 비밀번호를 기입해 주세요.\n"
      ]
    },
    {
      "cell_type": "code",
      "execution_count": null,
      "metadata": {
        "id": "PWxtIwS2qgOH"
      },
      "outputs": [],
      "source": [
        "project = \"SIMPSON\"  # 수정하지 마세요\n",
        "username = \"\"  # 이메일아이디 (예시. abc@hello.com)\n",
        "password = \"\"  # 비밀번호"
      ]
    },
    {
      "cell_type": "markdown",
      "metadata": {
        "id": "Y2zvsqWpQRHS"
      },
      "source": [
        "아래의 코드를 순서대로 실행해 주세요.\n"
      ]
    },
    {
      "cell_type": "code",
      "execution_count": null,
      "metadata": {
        "id": "OsjKUhdCQRHS"
      },
      "outputs": [],
      "source": [
        "import os\n",
        "import requests\n",
        "\n",
        "if not os.path.exists(\"competition.py\"):\n",
        "    url = \"https://link.teddynote.com/COMPT\"\n",
        "    file_name = \"competition.py\"\n",
        "    response = requests.get(url)\n",
        "    with open(file_name, \"wb\") as file:\n",
        "        file.write(response.content)"
      ]
    },
    {
      "cell_type": "markdown",
      "metadata": {
        "id": "W60TO1d0QRHS"
      },
      "source": [
        "아래 코드를 실행하여 데이터를 다운로드 받습니다.\n"
      ]
    },
    {
      "cell_type": "code",
      "execution_count": null,
      "metadata": {
        "id": "L6VIEhOyQRHS"
      },
      "outputs": [],
      "source": [
        "import competition\n",
        "\n",
        "# 파일 다운로드\n",
        "# competition.download_competition_files(\"MNIST\")\n",
        "competition.download_competition_files(\n",
        "    \"https://link.teddynote.com/SIMPSON\", use_competition_url=False\n",
        ")"
      ]
    },
    {
      "cell_type": "code",
      "execution_count": null,
      "metadata": {
        "id": "LbFFo4zNbGIS"
      },
      "outputs": [],
      "source": [
        "import pandas as pd\n",
        "import numpy as np\n",
        "import matplotlib.pyplot as plt\n",
        "import seaborn as sns\n",
        "import warnings\n",
        "import os\n",
        "\n",
        "# Data 경로 설정\n",
        "DATA_DIR = \"data\"\n",
        "\n",
        "# 경고 무시\n",
        "warnings.filterwarnings(\"ignore\")\n",
        "\n",
        "SEED = 123"
      ]
    },
    {
      "cell_type": "markdown",
      "metadata": {
        "id": "csPQIrZuqgOL"
      },
      "source": [
        "## 데이터 로드\n"
      ]
    },
    {
      "cell_type": "code",
      "execution_count": null,
      "metadata": {
        "id": "cWUt_lIpQRHT"
      },
      "outputs": [],
      "source": [
        "test = pd.read_csv(os.path.join(DATA_DIR, \"test.csv\"))\n",
        "test[\"FilePath\"] = test[\"FilePath\"].str.replace(\"./test_data/\", \"./data/test/\")\n",
        "test.head()"
      ]
    },
    {
      "cell_type": "code",
      "execution_count": null,
      "metadata": {
        "id": "h4iAp4_xQRHT"
      },
      "outputs": [],
      "source": [
        "from torchvision import datasets, transforms\n",
        "from torch.utils.data import Dataset, DataLoader\n",
        "from PIL import Image\n",
        "\n",
        "# 이미지 전처리 정의\n",
        "train_transform = transforms.Compose(\n",
        "    [\n",
        "        transforms.Resize((28, 28)),  # 이미지 크기를 (28, 28)로 조정\n",
        "        transforms.Grayscale(num_output_channels=1),  # 흑백 이미지로 변환\n",
        "        transforms.ToTensor(),  # 이미지를 PyTorch 텐서로 변환\n",
        "    ]\n",
        ")\n",
        "\n",
        "# ImageFolder를 사용하여 데이터셋 생성\n",
        "train_dataset = datasets.ImageFolder(root=\"./data/train\", transform=train_transform)\n",
        "\n",
        "# DataLoader 인스턴스 생성\n",
        "train_loader = DataLoader(train_dataset, batch_size=32, shuffle=True)"
      ]
    },
    {
      "cell_type": "code",
      "execution_count": null,
      "metadata": {
        "id": "ynmsDlF_QRHT"
      },
      "outputs": [],
      "source": [
        "# 숫자 라벨을 클래스 이름으로 매핑하는 딕셔너리 생성\n",
        "idx_to_class = {v: k for k, v in train_dataset.class_to_idx.items()}\n",
        "\n",
        "# train_loader에서 첫 번째 배치 가져오기\n",
        "images, labels = next(iter(train_loader))\n",
        "\n",
        "# 4x8 그리드로 이미지와 라벨 시각화\n",
        "fig, axes = plt.subplots(nrows=4, ncols=8, figsize=(16, 8))\n",
        "\n",
        "# 각 subplot에 이미지와 라벨을 그리기\n",
        "for ax, img, label in zip(axes.flat, images, labels):\n",
        "    ax.imshow(img.numpy().squeeze(), cmap=\"gray\")  # 이미지를 그레이스케일로 표시\n",
        "    ax.set_title(\n",
        "        idx_to_class[label.item()], fontsize=12\n",
        "    )  # 각 이미지 위에 라벨(클래스 이름)을 타이틀로 추가\n",
        "    ax.axis(\"off\")  # 축 제거\n",
        "\n",
        "plt.tight_layout()  # subplot 간격 조정\n",
        "plt.show()"
      ]
    },
    {
      "cell_type": "code",
      "execution_count": null,
      "metadata": {
        "id": "zRmN5Ll-QRHT"
      },
      "outputs": [],
      "source": [
        "class CustomImageDataset(Dataset):\n",
        "    def __init__(self, dataframe, transform=None):\n",
        "        self.dataframe = dataframe\n",
        "        self.transform = transform\n",
        "\n",
        "    def __len__(self):\n",
        "        return len(self.dataframe)\n",
        "\n",
        "    def __getitem__(self, idx):\n",
        "        img_path = self.dataframe.iloc[idx, 0]  # 'FilePath' 열에서 이미지 경로 가져오기\n",
        "        image = Image.open(img_path).convert(\"L\")  # 이미지를 흑백으로 로드\n",
        "\n",
        "        if self.transform:\n",
        "            image = self.transform(image)\n",
        "\n",
        "        return image\n",
        "\n",
        "\n",
        "# 이미지를 불러올 때 적용할 전처리 정의\n",
        "test_transform = transforms.Compose(\n",
        "    [\n",
        "        transforms.Resize((28, 28)),  # 이미지 크기를 (28, 28)로 조정\n",
        "        transforms.ToTensor(),  # 이미지를 PyTorch 텐서로 변환\n",
        "    ]\n",
        ")\n",
        "\n",
        "# 커스텀 데이터셋 인스턴스 생성\n",
        "custom_dataset = CustomImageDataset(dataframe=test, transform=test_transform)\n",
        "\n",
        "# DataLoader 인스턴스 생성\n",
        "test_loader = DataLoader(custom_dataset, batch_size=1, shuffle=False)"
      ]
    },
    {
      "cell_type": "markdown",
      "metadata": {
        "id": "Q0yynb-iQRHT"
      },
      "source": [
        "shape 를 확인합니다.\n"
      ]
    },
    {
      "cell_type": "code",
      "execution_count": null,
      "metadata": {
        "id": "b0ecCo9VQRHT"
      },
      "outputs": [],
      "source": [
        "x, y = next(iter(train_loader))\n",
        "x.shape, y.shape"
      ]
    },
    {
      "cell_type": "code",
      "execution_count": null,
      "metadata": {
        "id": "GhHpao4gQRHT"
      },
      "outputs": [],
      "source": [
        "x = next(iter(test_loader))\n",
        "x.shape"
      ]
    },
    {
      "cell_type": "code",
      "execution_count": null,
      "metadata": {
        "id": "tWhUZRdLQRHT"
      },
      "outputs": [],
      "source": [
        "import torch\n",
        "import torch.nn as nn\n",
        "import torch.optim as optim\n",
        "import torch.nn.functional as F\n",
        "\n",
        "# Device 설정 (cuda:0 혹은 cpu)\n",
        "device = torch.device(\"cuda:0\" if torch.cuda.is_available() else \"cpu\")\n",
        "print(device)\n",
        "\n",
        "\n",
        "class Net(nn.Module):\n",
        "    def __init__(self, num_classes):\n",
        "        super(Net, self).__init__()\n",
        "        # 코드입력\n",
        "\n",
        "    def forward(self, x):\n",
        "        # (B, 1, 28, 28) -> (B, 28*28)\n",
        "        x = x.view(-1, 28 * 28)\n",
        "        # 코드입력\n",
        "\n",
        "        return x"
      ]
    },
    {
      "cell_type": "code",
      "execution_count": null,
      "metadata": {
        "id": "Ge1alswsQRHT"
      },
      "outputs": [],
      "source": [
        "# 모델 생성\n",
        "model =\n",
        "\n",
        "# 모델을 device 에 올립니다. (cuda:0 혹은 cpu)\n",
        "model.to(device)\n",
        "model"
      ]
    },
    {
      "cell_type": "markdown",
      "metadata": {
        "id": "36Vj6WnrQRHT"
      },
      "source": [
        "### Loss Function & Optimizer\n"
      ]
    },
    {
      "cell_type": "code",
      "execution_count": null,
      "metadata": {
        "id": "6bSnsk2AQRHU"
      },
      "outputs": [],
      "source": [
        "# Loss function 정의\n",
        "loss_fn =\n",
        "\n",
        "# 옵티마이저 설정: model.paramters()와 learning_rate 설정\n",
        "optimizer ="
      ]
    },
    {
      "cell_type": "markdown",
      "metadata": {
        "id": "xikpW5veQRHU"
      },
      "source": [
        "### 모델 학습(Training)\n"
      ]
    },
    {
      "cell_type": "code",
      "execution_count": null,
      "metadata": {
        "id": "p1DHFf3HQRHU"
      },
      "outputs": [],
      "source": [
        "# 최대 반복 횟수 정의\n",
        "num_epoch = 20\n",
        "\n",
        "# loss 기록하기 위한 list 정의\n",
        "losses = []\n",
        "accs = []\n",
        "\n",
        "# 훈련 모드 활성화\n",
        "model.train()\n",
        "\n",
        "for epoch in range(num_epoch):\n",
        "    # loss 초기화\n",
        "    running_loss = 0\n",
        "    # 정확도 계산\n",
        "    running_acc = 0\n",
        "\n",
        "    for x, y in train_loader:\n",
        "        # x, y 데이터를 device 에 올립니다. (cuda:0 혹은 cpu)\n",
        "        x = x.to(device)\n",
        "        y = y.to(device)\n",
        "\n",
        "        # 그라디언트 초기화 (초기화를 수행하지 않으면 계산된 그라디언트는 누적됩니다.)\n",
        "\n",
        "\n",
        "        # output 계산\n",
        "        output =\n",
        "\n",
        "        # 손실(loss) 계산 (예측 Prediction, 실제 Ground Truth)\n",
        "        loss =\n",
        "\n",
        "        # 미분 계산\n",
        "\n",
        "\n",
        "        # 경사하강법 계산 및 적용\n",
        "\n",
        "\n",
        "        # 배치별 loss 를 누적합산 합니다.\n",
        "        running_loss += loss.item()\n",
        "        running_acc += output.argmax(dim=1).eq(y).sum().item() / len(y)\n",
        "\n",
        "    # 누적합산된 배치별 loss값을 배치의 개수로 나누어 Epoch당 loss를 산출합니다.\n",
        "    loss = running_loss / len(train_loader)\n",
        "    losses.append(loss)\n",
        "    acc = running_acc / len(train_loader)\n",
        "    accs.append(acc)\n",
        "\n",
        "    # 매 Epoch의 학습이 끝날때 훈련 결과를 출력합니다.\n",
        "    print(f\"{epoch:03d} loss = {loss:.5f}, accuracy = {acc:.5f}\")"
      ]
    },
    {
      "cell_type": "markdown",
      "metadata": {
        "id": "ZkPuKSJOQRHU"
      },
      "source": [
        "### 예측\n"
      ]
    },
    {
      "cell_type": "code",
      "execution_count": null,
      "metadata": {
        "id": "7V6m-oKTQRHU"
      },
      "outputs": [],
      "source": [
        "predictions = []\n",
        "\n",
        "# 검증모드 진입\n",
        "model.eval()\n",
        "\n",
        "with torch.no_grad():\n",
        "    # loss 초기화\n",
        "    running_loss = 0\n",
        "    # 정확도 계산\n",
        "    running_acc = 0\n",
        "    for x in test_loader:\n",
        "        x = x.to(device)\n",
        "\n",
        "        y_hat = model(x)\n",
        "        label = y_hat.argmax(dim=1).detach().item()\n",
        "        predictions.append(label)"
      ]
    },
    {
      "cell_type": "code",
      "execution_count": null,
      "metadata": {
        "id": "91LcpQrlQRHU"
      },
      "outputs": [],
      "source": [
        "# 정답\n",
        "your_answer = [idx_to_class[l] for l in predictions]"
      ]
    },
    {
      "cell_type": "markdown",
      "metadata": {
        "id": "V1PURs-gbphu"
      },
      "source": [
        "## 결과 제출\n",
        "\n",
        "- 느리다고 중지 후 다시 평가 코드를 실행하는 경우 제출 과정에서 패널티가 발생할 수 있습니다. (제출 횟수 이슈 발생 가능)\n",
        "- 제출결과는 [대회페이지](http://braincrew2.iptime.org:8001/competitions/ADVHOUSE/)의 `리더보드` 와 `제출` 탭에서 확인할 수 있습니다.\n"
      ]
    },
    {
      "cell_type": "markdown",
      "metadata": {
        "id": "AQAW_wggqgOP"
      },
      "source": [
        "아래 Cell을 실행하여 예측 결과 업데이트\n"
      ]
    },
    {
      "cell_type": "code",
      "execution_count": null,
      "metadata": {
        "id": "bK6QjWWNuxeF"
      },
      "outputs": [],
      "source": [
        "import competition\n",
        "\n",
        "# 예측 결과 업데이트\n",
        "submission = pd.read_csv(os.path.join(DATA_DIR, \"submission.csv\"))\n",
        "submission[\"Label\"] = your_answer\n",
        "\n",
        "display(submission)\n",
        "competition.submit(project, username, password, submission)"
      ]
    }
  ],
  "metadata": {
    "accelerator": "GPU",
    "colab": {
      "provenance": [],
      "include_colab_link": true
    },
    "gpuClass": "standard",
    "kernelspec": {
      "display_name": "Python 3 (ipykernel)",
      "language": "python",
      "name": "python3"
    },
    "language_info": {
      "codemirror_mode": {
        "name": "ipython",
        "version": 3
      },
      "file_extension": ".py",
      "mimetype": "text/x-python",
      "name": "python",
      "nbconvert_exporter": "python",
      "pygments_lexer": "ipython3",
      "version": "3.9.18"
    }
  },
  "nbformat": 4,
  "nbformat_minor": 0
}